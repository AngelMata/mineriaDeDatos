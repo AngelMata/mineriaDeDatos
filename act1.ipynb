{
 "cells": [
  {
   "cell_type": "markdown",
   "metadata": {},
   "source": [
    "# Tarea1"
   ]
  },
  {
   "cell_type": "markdown",
   "metadata": {},
   "source": [
    "### Librerias"
   ]
  },
  {
   "cell_type": "code",
   "execution_count": 1,
   "metadata": {},
   "outputs": [],
   "source": [
    "import pandas as pd\n",
    "import numpy as np"
   ]
  },
  {
   "cell_type": "markdown",
   "metadata": {},
   "source": [
    "### Llamar .csv"
   ]
  },
  {
   "cell_type": "code",
   "execution_count": 2,
   "metadata": {},
   "outputs": [],
   "source": [
    "df = pd.read_csv(\"/home/mata/mineria/actividades/1/tabla.csv\")"
   ]
  },
  {
   "cell_type": "markdown",
   "metadata": {},
   "source": [
    "### Visualizar datos"
   ]
  },
  {
   "cell_type": "code",
   "execution_count": 3,
   "metadata": {},
   "outputs": [
    {
     "data": {
      "text/plain": [
       "Index(['movie_title', 'num_critic_for_reviews', 'duration',\n",
       "       'DIRECTOR_facebook_likes', 'actor_3_facebook_likes',\n",
       "       'ACTOR_1_facebook_likes', 'gross', 'num_voted_users',\n",
       "       'Cast_Total_facebook_likes', 'facenumber_in_poster',\n",
       "       'num_user_for_reviews', 'budget', 'title_year',\n",
       "       'ACTOR_2_facebook_likes', 'imdb_score', 'title_year.1'],\n",
       "      dtype='object')"
      ]
     },
     "execution_count": 3,
     "metadata": {},
     "output_type": "execute_result"
    }
   ],
   "source": [
    "df.columns"
   ]
  },
  {
   "cell_type": "code",
   "execution_count": 4,
   "metadata": {},
   "outputs": [
    {
     "data": {
      "text/plain": [
       "movie_title                   object\n",
       "num_critic_for_reviews         int64\n",
       "duration                     float64\n",
       "DIRECTOR_facebook_likes       object\n",
       "actor_3_facebook_likes         int64\n",
       "ACTOR_1_facebook_likes         int64\n",
       "gross                          int64\n",
       "num_voted_users              float64\n",
       "Cast_Total_facebook_likes    float64\n",
       "facenumber_in_poster         float64\n",
       "num_user_for_reviews           int64\n",
       "budget                         int64\n",
       "title_year                     int64\n",
       "ACTOR_2_facebook_likes       float64\n",
       "imdb_score                   float64\n",
       "title_year.1                 float64\n",
       "dtype: object"
      ]
     },
     "execution_count": 4,
     "metadata": {},
     "output_type": "execute_result"
    }
   ],
   "source": [
    "df.dtypes"
   ]
  },
  {
   "cell_type": "code",
   "execution_count": 5,
   "metadata": {},
   "outputs": [
    {
     "data": {
      "text/html": [
       "<div>\n",
       "<style scoped>\n",
       "    .dataframe tbody tr th:only-of-type {\n",
       "        vertical-align: middle;\n",
       "    }\n",
       "\n",
       "    .dataframe tbody tr th {\n",
       "        vertical-align: top;\n",
       "    }\n",
       "\n",
       "    .dataframe thead th {\n",
       "        text-align: right;\n",
       "    }\n",
       "</style>\n",
       "<table border=\"1\" class=\"dataframe\">\n",
       "  <thead>\n",
       "    <tr style=\"text-align: right;\">\n",
       "      <th></th>\n",
       "      <th>movie_title</th>\n",
       "      <th>num_critic_for_reviews</th>\n",
       "      <th>duration</th>\n",
       "      <th>DIRECTOR_facebook_likes</th>\n",
       "      <th>actor_3_facebook_likes</th>\n",
       "      <th>ACTOR_1_facebook_likes</th>\n",
       "      <th>gross</th>\n",
       "      <th>num_voted_users</th>\n",
       "      <th>Cast_Total_facebook_likes</th>\n",
       "      <th>facenumber_in_poster</th>\n",
       "      <th>num_user_for_reviews</th>\n",
       "      <th>budget</th>\n",
       "      <th>title_year</th>\n",
       "      <th>ACTOR_2_facebook_likes</th>\n",
       "      <th>imdb_score</th>\n",
       "      <th>title_year.1</th>\n",
       "    </tr>\n",
       "  </thead>\n",
       "  <tbody>\n",
       "    <tr>\n",
       "      <td>9</td>\n",
       "      <td>Harry Potter and the Half-Blood Prince?ÿ</td>\n",
       "      <td>375</td>\n",
       "      <td>153.0</td>\n",
       "      <td>282</td>\n",
       "      <td>10000</td>\n",
       "      <td>25000</td>\n",
       "      <td>301956980</td>\n",
       "      <td>321795.0</td>\n",
       "      <td>58753.0</td>\n",
       "      <td>3.0</td>\n",
       "      <td>973</td>\n",
       "      <td>250000000</td>\n",
       "      <td>2009</td>\n",
       "      <td>11000.0</td>\n",
       "      <td>7.5</td>\n",
       "      <td>NaN</td>\n",
       "    </tr>\n",
       "    <tr>\n",
       "      <td>10</td>\n",
       "      <td>Batman v Superman: Dawn of Justice?ÿ</td>\n",
       "      <td>673</td>\n",
       "      <td>183.0</td>\n",
       "      <td>NaN</td>\n",
       "      <td>2000</td>\n",
       "      <td>15000</td>\n",
       "      <td>330249062</td>\n",
       "      <td>NaN</td>\n",
       "      <td>24450.0</td>\n",
       "      <td>NaN</td>\n",
       "      <td>3018</td>\n",
       "      <td>250000000</td>\n",
       "      <td>2016</td>\n",
       "      <td>NaN</td>\n",
       "      <td>6.9</td>\n",
       "      <td>2016.0</td>\n",
       "    </tr>\n",
       "    <tr>\n",
       "      <td>11</td>\n",
       "      <td>Superman Returns?ÿ</td>\n",
       "      <td>434</td>\n",
       "      <td>169.0</td>\n",
       "      <td>NaN</td>\n",
       "      <td>903</td>\n",
       "      <td>18000</td>\n",
       "      <td>200069408</td>\n",
       "      <td>240396.0</td>\n",
       "      <td>NaN</td>\n",
       "      <td>2.0</td>\n",
       "      <td>2367</td>\n",
       "      <td>209000000</td>\n",
       "      <td>2006</td>\n",
       "      <td>10000.0</td>\n",
       "      <td>6.1</td>\n",
       "      <td>NaN</td>\n",
       "    </tr>\n",
       "    <tr>\n",
       "      <td>12</td>\n",
       "      <td>Quantum of Solace?ÿ</td>\n",
       "      <td>403</td>\n",
       "      <td>106.0</td>\n",
       "      <td>395</td>\n",
       "      <td>393</td>\n",
       "      <td>451</td>\n",
       "      <td>168368427</td>\n",
       "      <td>330784.0</td>\n",
       "      <td>2023.0</td>\n",
       "      <td>1.0</td>\n",
       "      <td>1243</td>\n",
       "      <td>200000000</td>\n",
       "      <td>2008</td>\n",
       "      <td>412.0</td>\n",
       "      <td>6.7</td>\n",
       "      <td>2008.0</td>\n",
       "    </tr>\n",
       "    <tr>\n",
       "      <td>13</td>\n",
       "      <td>Pirates of the Caribbean: Dead Man's Chest?ÿ</td>\n",
       "      <td>313</td>\n",
       "      <td>151.0</td>\n",
       "      <td>563</td>\n",
       "      <td>1000</td>\n",
       "      <td>40000</td>\n",
       "      <td>423032628</td>\n",
       "      <td>522040.0</td>\n",
       "      <td>48486.0</td>\n",
       "      <td>2.0</td>\n",
       "      <td>1832</td>\n",
       "      <td>225000000</td>\n",
       "      <td>2006</td>\n",
       "      <td>5000.0</td>\n",
       "      <td>7.3</td>\n",
       "      <td>2008.0</td>\n",
       "    </tr>\n",
       "  </tbody>\n",
       "</table>\n",
       "</div>"
      ],
      "text/plain": [
       "                                     movie_title  num_critic_for_reviews  \\\n",
       "9       Harry Potter and the Half-Blood Prince?ÿ                     375   \n",
       "10          Batman v Superman: Dawn of Justice?ÿ                     673   \n",
       "11                            Superman Returns?ÿ                     434   \n",
       "12                           Quantum of Solace?ÿ                     403   \n",
       "13  Pirates of the Caribbean: Dead Man's Chest?ÿ                     313   \n",
       "\n",
       "    duration DIRECTOR_facebook_likes  actor_3_facebook_likes  \\\n",
       "9      153.0                     282                   10000   \n",
       "10     183.0                     NaN                    2000   \n",
       "11     169.0                     NaN                     903   \n",
       "12     106.0                     395                     393   \n",
       "13     151.0                     563                    1000   \n",
       "\n",
       "    ACTOR_1_facebook_likes      gross  num_voted_users  \\\n",
       "9                    25000  301956980         321795.0   \n",
       "10                   15000  330249062              NaN   \n",
       "11                   18000  200069408         240396.0   \n",
       "12                     451  168368427         330784.0   \n",
       "13                   40000  423032628         522040.0   \n",
       "\n",
       "    Cast_Total_facebook_likes  facenumber_in_poster  num_user_for_reviews  \\\n",
       "9                     58753.0                   3.0                   973   \n",
       "10                    24450.0                   NaN                  3018   \n",
       "11                        NaN                   2.0                  2367   \n",
       "12                     2023.0                   1.0                  1243   \n",
       "13                    48486.0                   2.0                  1832   \n",
       "\n",
       "       budget  title_year  ACTOR_2_facebook_likes  imdb_score  title_year.1  \n",
       "9   250000000        2009                 11000.0         7.5           NaN  \n",
       "10  250000000        2016                     NaN         6.9        2016.0  \n",
       "11  209000000        2006                 10000.0         6.1           NaN  \n",
       "12  200000000        2008                   412.0         6.7        2008.0  \n",
       "13  225000000        2006                  5000.0         7.3        2008.0  "
      ]
     },
     "execution_count": 5,
     "metadata": {},
     "output_type": "execute_result"
    }
   ],
   "source": [
    "df.tail()"
   ]
  },
  {
   "cell_type": "markdown",
   "metadata": {},
   "source": [
    "### El objetivo es una clasificación con los datos, asi que hay que acomodar los datos de manera que se nos facilite esta tarea."
   ]
  },
  {
   "cell_type": "markdown",
   "metadata": {},
   "source": [
    "#### Cambiar NA por 0 parecce buena manera para manejar solo numeros ya que 0 likes no importa "
   ]
  },
  {
   "cell_type": "markdown",
   "metadata": {},
   "source": [
    "dataFrame0 = df.fillna(0)"
   ]
  },
  {
   "cell_type": "code",
   "execution_count": 7,
   "metadata": {},
   "outputs": [
    {
     "data": {
      "text/html": [
       "<div>\n",
       "<style scoped>\n",
       "    .dataframe tbody tr th:only-of-type {\n",
       "        vertical-align: middle;\n",
       "    }\n",
       "\n",
       "    .dataframe tbody tr th {\n",
       "        vertical-align: top;\n",
       "    }\n",
       "\n",
       "    .dataframe thead th {\n",
       "        text-align: right;\n",
       "    }\n",
       "</style>\n",
       "<table border=\"1\" class=\"dataframe\">\n",
       "  <thead>\n",
       "    <tr style=\"text-align: right;\">\n",
       "      <th></th>\n",
       "      <th>movie_title</th>\n",
       "      <th>num_critic_for_reviews</th>\n",
       "      <th>duration</th>\n",
       "      <th>DIRECTOR_facebook_likes</th>\n",
       "      <th>actor_3_facebook_likes</th>\n",
       "      <th>ACTOR_1_facebook_likes</th>\n",
       "      <th>gross</th>\n",
       "      <th>num_voted_users</th>\n",
       "      <th>Cast_Total_facebook_likes</th>\n",
       "      <th>facenumber_in_poster</th>\n",
       "      <th>num_user_for_reviews</th>\n",
       "      <th>budget</th>\n",
       "      <th>title_year</th>\n",
       "      <th>ACTOR_2_facebook_likes</th>\n",
       "      <th>imdb_score</th>\n",
       "      <th>title_year.1</th>\n",
       "    </tr>\n",
       "  </thead>\n",
       "  <tbody>\n",
       "    <tr>\n",
       "      <td>9</td>\n",
       "      <td>Harry Potter and the Half-Blood Prince?ÿ</td>\n",
       "      <td>375</td>\n",
       "      <td>153.0</td>\n",
       "      <td>282</td>\n",
       "      <td>10000</td>\n",
       "      <td>25000</td>\n",
       "      <td>301956980</td>\n",
       "      <td>321795.0</td>\n",
       "      <td>58753.0</td>\n",
       "      <td>3.0</td>\n",
       "      <td>973</td>\n",
       "      <td>250000000</td>\n",
       "      <td>2009</td>\n",
       "      <td>11000.0</td>\n",
       "      <td>7.5</td>\n",
       "      <td>0.0</td>\n",
       "    </tr>\n",
       "    <tr>\n",
       "      <td>10</td>\n",
       "      <td>Batman v Superman: Dawn of Justice?ÿ</td>\n",
       "      <td>673</td>\n",
       "      <td>183.0</td>\n",
       "      <td>0</td>\n",
       "      <td>2000</td>\n",
       "      <td>15000</td>\n",
       "      <td>330249062</td>\n",
       "      <td>0.0</td>\n",
       "      <td>24450.0</td>\n",
       "      <td>0.0</td>\n",
       "      <td>3018</td>\n",
       "      <td>250000000</td>\n",
       "      <td>2016</td>\n",
       "      <td>0.0</td>\n",
       "      <td>6.9</td>\n",
       "      <td>2016.0</td>\n",
       "    </tr>\n",
       "    <tr>\n",
       "      <td>11</td>\n",
       "      <td>Superman Returns?ÿ</td>\n",
       "      <td>434</td>\n",
       "      <td>169.0</td>\n",
       "      <td>0</td>\n",
       "      <td>903</td>\n",
       "      <td>18000</td>\n",
       "      <td>200069408</td>\n",
       "      <td>240396.0</td>\n",
       "      <td>0.0</td>\n",
       "      <td>2.0</td>\n",
       "      <td>2367</td>\n",
       "      <td>209000000</td>\n",
       "      <td>2006</td>\n",
       "      <td>10000.0</td>\n",
       "      <td>6.1</td>\n",
       "      <td>0.0</td>\n",
       "    </tr>\n",
       "    <tr>\n",
       "      <td>12</td>\n",
       "      <td>Quantum of Solace?ÿ</td>\n",
       "      <td>403</td>\n",
       "      <td>106.0</td>\n",
       "      <td>395</td>\n",
       "      <td>393</td>\n",
       "      <td>451</td>\n",
       "      <td>168368427</td>\n",
       "      <td>330784.0</td>\n",
       "      <td>2023.0</td>\n",
       "      <td>1.0</td>\n",
       "      <td>1243</td>\n",
       "      <td>200000000</td>\n",
       "      <td>2008</td>\n",
       "      <td>412.0</td>\n",
       "      <td>6.7</td>\n",
       "      <td>2008.0</td>\n",
       "    </tr>\n",
       "    <tr>\n",
       "      <td>13</td>\n",
       "      <td>Pirates of the Caribbean: Dead Man's Chest?ÿ</td>\n",
       "      <td>313</td>\n",
       "      <td>151.0</td>\n",
       "      <td>563</td>\n",
       "      <td>1000</td>\n",
       "      <td>40000</td>\n",
       "      <td>423032628</td>\n",
       "      <td>522040.0</td>\n",
       "      <td>48486.0</td>\n",
       "      <td>2.0</td>\n",
       "      <td>1832</td>\n",
       "      <td>225000000</td>\n",
       "      <td>2006</td>\n",
       "      <td>5000.0</td>\n",
       "      <td>7.3</td>\n",
       "      <td>2008.0</td>\n",
       "    </tr>\n",
       "  </tbody>\n",
       "</table>\n",
       "</div>"
      ],
      "text/plain": [
       "                                     movie_title  num_critic_for_reviews  \\\n",
       "9       Harry Potter and the Half-Blood Prince?ÿ                     375   \n",
       "10          Batman v Superman: Dawn of Justice?ÿ                     673   \n",
       "11                            Superman Returns?ÿ                     434   \n",
       "12                           Quantum of Solace?ÿ                     403   \n",
       "13  Pirates of the Caribbean: Dead Man's Chest?ÿ                     313   \n",
       "\n",
       "    duration DIRECTOR_facebook_likes  actor_3_facebook_likes  \\\n",
       "9      153.0                     282                   10000   \n",
       "10     183.0                       0                    2000   \n",
       "11     169.0                       0                     903   \n",
       "12     106.0                     395                     393   \n",
       "13     151.0                     563                    1000   \n",
       "\n",
       "    ACTOR_1_facebook_likes      gross  num_voted_users  \\\n",
       "9                    25000  301956980         321795.0   \n",
       "10                   15000  330249062              0.0   \n",
       "11                   18000  200069408         240396.0   \n",
       "12                     451  168368427         330784.0   \n",
       "13                   40000  423032628         522040.0   \n",
       "\n",
       "    Cast_Total_facebook_likes  facenumber_in_poster  num_user_for_reviews  \\\n",
       "9                     58753.0                   3.0                   973   \n",
       "10                    24450.0                   0.0                  3018   \n",
       "11                        0.0                   2.0                  2367   \n",
       "12                     2023.0                   1.0                  1243   \n",
       "13                    48486.0                   2.0                  1832   \n",
       "\n",
       "       budget  title_year  ACTOR_2_facebook_likes  imdb_score  title_year.1  \n",
       "9   250000000        2009                 11000.0         7.5           0.0  \n",
       "10  250000000        2016                     0.0         6.9        2016.0  \n",
       "11  209000000        2006                 10000.0         6.1           0.0  \n",
       "12  200000000        2008                   412.0         6.7        2008.0  \n",
       "13  225000000        2006                  5000.0         7.3        2008.0  "
      ]
     },
     "execution_count": 7,
     "metadata": {},
     "output_type": "execute_result"
    }
   ],
   "source": [
    "dataFrame0.tail()"
   ]
  },
  {
   "cell_type": "markdown",
   "metadata": {},
   "source": [
    "### Cambiar nombres de columnas"
   ]
  },
  {
   "cell_type": "code",
   "execution_count": 11,
   "metadata": {},
   "outputs": [],
   "source": [
    "dataFrameColumns = dataFrame0.rename(columns = {'num_critic_for_reviews':'numeroDeCriticas',\n",
    "                                                'DIRECTOR_facebook_likes':'directorLikes',\n",
    "                                                'actor_3_facebook_likes':'actor3Likes'})"
   ]
  },
  {
   "cell_type": "code",
   "execution_count": 12,
   "metadata": {},
   "outputs": [
    {
     "data": {
      "text/plain": [
       "Index(['movie_title', 'numeroDeCriticas', 'duration', 'directorLikes',\n",
       "       'actor3Likes', 'ACTOR_1_facebook_likes', 'gross', 'num_voted_users',\n",
       "       'Cast_Total_facebook_likes', 'facenumber_in_poster',\n",
       "       'num_user_for_reviews', 'budget', 'title_year',\n",
       "       'ACTOR_2_facebook_likes', 'imdb_score', 'title_year.1'],\n",
       "      dtype='object')"
      ]
     },
     "execution_count": 12,
     "metadata": {},
     "output_type": "execute_result"
    }
   ],
   "source": [
    "dataFrameColumns.columns"
   ]
  },
  {
   "cell_type": "markdown",
   "metadata": {},
   "source": [
    "### Guardar otros archivos con agrupaciones."
   ]
  },
  {
   "cell_type": "code",
   "execution_count": 19,
   "metadata": {},
   "outputs": [],
   "source": [
    "clase1 = dataFrameColumns[dataFrameColumns['numeroDeCriticas']=='Clase1']\n",
    "clase1.to_csv('clase1.csv',index=False)"
   ]
  },
  {
   "cell_type": "markdown",
   "metadata": {},
   "source": [
    "### Responder las preguntas de interes."
   ]
  },
  {
   "cell_type": "markdown",
   "metadata": {},
   "source": [
    "#### Importancia del analisis previo de los datos antes de iniciar las modificaciones.\n",
    "##### Normalmente los datos estan sucios es decir que tienen errores entre los diferentes campos ya sea acentos , diferentes formatos etc. La limpieza es igualar formatos, descartar campos borrar registros no utiles. Con los datos limpios uno ya puede hacer predicciones o descripciones."
   ]
  },
  {
   "cell_type": "markdown",
   "metadata": {},
   "source": [
    "## Tarea extras"
   ]
  },
  {
   "cell_type": "markdown",
   "metadata": {},
   "source": [
    "### df.dropna()"
   ]
  },
  {
   "cell_type": "markdown",
   "metadata": {},
   "source": [
    "#### El método dropna permite, de una forma muy conveniente, filtrar los valores de una estructura de datos pandas para dejar solo aquellos no nulos. Aplicado a un dataframe, el método pandas.DataFrame.dropna ofrece algo más de funcionalidad: podemos escoger si queremos eliminar filas o columnas, y si queremos eliminarlas cuando todos sus elementos sean nulos o simplemente cuando alguno de ellos lo sea. "
   ]
  },
  {
   "cell_type": "markdown",
   "metadata": {},
   "source": [
    "### df.astype()"
   ]
  },
  {
   "cell_type": "markdown",
   "metadata": {},
   "source": [
    "#### astype() método astype() cambia el tipo de letra de una serie y devuelve una nueva serie. astype() método astype() es para conversión de tipo específico (es decir, puede especificar .astype(float64') , .astype(float32) o .astype(float16) ). Para la conversión general, puede usar pd.to_numeric , pd.to_datetime y pd.to_timedelta ."
   ]
  },
  {
   "cell_type": "markdown",
   "metadata": {},
   "source": [
    "### Realizar una tarea de preprocesamiento no mencionada en esta práctica."
   ]
  },
  {
   "cell_type": "code",
   "execution_count": null,
   "metadata": {},
   "outputs": [],
   "source": []
  }
 ],
 "metadata": {
  "kernelspec": {
   "display_name": "Python 3",
   "language": "python",
   "name": "python3"
  },
  "language_info": {
   "codemirror_mode": {
    "name": "ipython",
    "version": 3
   },
   "file_extension": ".py",
   "mimetype": "text/x-python",
   "name": "python",
   "nbconvert_exporter": "python",
   "pygments_lexer": "ipython3",
   "version": "3.7.4"
  }
 },
 "nbformat": 4,
 "nbformat_minor": 2
}
